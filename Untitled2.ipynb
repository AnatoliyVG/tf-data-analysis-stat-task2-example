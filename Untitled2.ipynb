{
  "nbformat": 4,
  "nbformat_minor": 0,
  "metadata": {
    "colab": {
      "provenance": [],
      "authorship_tag": "ABX9TyOZHIjfD1vzcUXSL7J1Zuy5",
      "include_colab_link": true
    },
    "kernelspec": {
      "name": "python3",
      "display_name": "Python 3"
    },
    "language_info": {
      "name": "python"
    }
  },
  "cells": [
    {
      "cell_type": "markdown",
      "metadata": {
        "id": "view-in-github",
        "colab_type": "text"
      },
      "source": [
        "<a href=\"https://colab.research.google.com/github/AnatoliyVG/tf-data-analysis-stat-task2-example/blob/main/Untitled2.ipynb\" target=\"_parent\"><img src=\"https://colab.research.google.com/assets/colab-badge.svg\" alt=\"Open In Colab\"/></a>"
      ]
    },
    {
      "cell_type": "code",
      "execution_count": 1,
      "metadata": {
        "id": "3R1nmuHO-cAF"
      },
      "outputs": [],
      "source": [
        "import pandas as pd\n",
        "import numpy as np\n",
        "from scipy.stats import t\n",
        "\n",
        "chat_id = 1399245853 \n",
        "\n",
        "def symmetric_confidence_interval(alpha, measurements):\n",
        "    n = measurements.size\n",
        "    x_mean = np.mean(measurements)\n",
        "    s = np.sqrt(np.var(measurements, ddof=1))\n",
        "    t_alpha_2 = t.ppf(1 - alpha/2, df=n-1)\n",
        "    delta = t_alpha_2 * s / np.sqrt(n)\n",
        "    left_boundary = x_mean - delta\n",
        "    right_boundary = x_mean + delta\n",
        "    return (left_boundary, right_boundary)"
      ]
    }
  ]
}